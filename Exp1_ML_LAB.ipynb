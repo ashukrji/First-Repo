{
  "nbformat": 4,
  "nbformat_minor": 0,
  "metadata": {
    "colab": {
      "name": "Exp1_ML_LAB.ipynb",
      "provenance": [],
      "collapsed_sections": [],
      "authorship_tag": "ABX9TyOBx5jGV3yRfwW6nfkITwQc",
      "include_colab_link": true
    },
    "kernelspec": {
      "name": "python3",
      "display_name": "Python 3"
    }
  },
  "cells": [
    {
      "cell_type": "markdown",
      "metadata": {
        "id": "view-in-github",
        "colab_type": "text"
      },
      "source": [
        "<a href=\"https://colab.research.google.com/github/ashukrji/First-Repo/blob/master/Exp1_ML_LAB.ipynb\" target=\"_parent\"><img src=\"https://colab.research.google.com/assets/colab-badge.svg\" alt=\"Open In Colab\"/></a>"
      ]
    },
    {
      "cell_type": "markdown",
      "metadata": {
        "id": "LuFluOHGPm-8"
      },
      "source": [
        "## ARRAYS IN NUMPY"
      ]
    },
    {
      "cell_type": "code",
      "metadata": {
        "id": "XGUxGdx1QXiV"
      },
      "source": [
        "import numpy as np"
      ],
      "execution_count": 22,
      "outputs": []
    },
    {
      "cell_type": "markdown",
      "metadata": {
        "id": "wi9-VEwZSguK"
      },
      "source": [
        "# CREATE A NUMPY ARRAY"
      ]
    },
    {
      "cell_type": "code",
      "metadata": {
        "colab": {
          "base_uri": "https://localhost:8080/"
        },
        "id": "Uu8AJgkeQtNC",
        "outputId": "590ce0b3-3d76-4216-91c8-9f1f460ab3ea"
      },
      "source": [
        "a=np.array([1,2,3])\r\n",
        "b=np.array([[1,2,3],[4,5,6]])\r\n",
        "\r\n",
        "print(a.ndim)\r\n",
        "print(b.ndim)\r\n",
        "\r\n"
      ],
      "execution_count": 23,
      "outputs": [
        {
          "output_type": "stream",
          "text": [
            "1\n",
            "2\n"
          ],
          "name": "stdout"
        }
      ]
    },
    {
      "cell_type": "markdown",
      "metadata": {
        "id": "D-WQbHn-TzXN"
      },
      "source": [
        "# Accessing the array index"
      ]
    },
    {
      "cell_type": "code",
      "metadata": {
        "colab": {
          "base_uri": "https://localhost:8080/"
        },
        "id": "vF2OYdOvT7Mw",
        "outputId": "0aa4438d-c342-42a1-b799-45132286b577"
      },
      "source": [
        "print(a[2])\r\n",
        "print(b[1][1])"
      ],
      "execution_count": 24,
      "outputs": [
        {
          "output_type": "stream",
          "text": [
            "3\n",
            "5\n"
          ],
          "name": "stdout"
        }
      ]
    },
    {
      "cell_type": "markdown",
      "metadata": {
        "id": "k0gioADCXl7o"
      },
      "source": [
        "# Perform basic addition (adding 1 to every element) and subtraction (subtracting 2 from each element) operation.\r\n"
      ]
    },
    {
      "cell_type": "code",
      "metadata": {
        "colab": {
          "base_uri": "https://localhost:8080/"
        },
        "id": "KA0NQSbcUSjk",
        "outputId": "461a068b-45a9-4453-f0ca-c3454e44e3fb"
      },
      "source": [
        "\r\n",
        "print(a+1)\r\n",
        "print(a-2)"
      ],
      "execution_count": 27,
      "outputs": [
        {
          "output_type": "stream",
          "text": [
            "[2 3 4]\n",
            "[-1  0  1]\n"
          ],
          "name": "stdout"
        }
      ]
    },
    {
      "cell_type": "markdown",
      "metadata": {
        "id": "77OL6aRaYNXj"
      },
      "source": [
        "## Data Types in Numpy"
      ]
    },
    {
      "cell_type": "code",
      "metadata": {
        "colab": {
          "base_uri": "https://localhost:8080/"
        },
        "id": "Ahp2JAHvYPPJ",
        "outputId": "7c9d11e3-9ab3-4348-b580-774fe9340dd9"
      },
      "source": [
        "a.dtype"
      ],
      "execution_count": 28,
      "outputs": [
        {
          "output_type": "execute_result",
          "data": {
            "text/plain": [
              "dtype('int64')"
            ]
          },
          "metadata": {
            "tags": []
          },
          "execution_count": 28
        }
      ]
    },
    {
      "cell_type": "code",
      "metadata": {
        "colab": {
          "base_uri": "https://localhost:8080/"
        },
        "id": "f3hEM1v-YXMB",
        "outputId": "fdd6c464-1ced-4c9f-9edd-d6d734ebfa8c"
      },
      "source": [
        "b.dtype\r\n"
      ],
      "execution_count": 34,
      "outputs": [
        {
          "output_type": "execute_result",
          "data": {
            "text/plain": [
              "dtype('float32')"
            ]
          },
          "metadata": {
            "tags": []
          },
          "execution_count": 34
        }
      ]
    },
    {
      "cell_type": "markdown",
      "metadata": {
        "id": "gx6aSGyYZeai"
      },
      "source": [
        "# construct a datatype object"
      ]
    },
    {
      "cell_type": "code",
      "metadata": {
        "colab": {
          "base_uri": "https://localhost:8080/"
        },
        "id": "04nYubfFZqjA",
        "outputId": "990bdd50-3d54-4cba-be5d-5fd849b84644"
      },
      "source": [
        "print(np.dtype(np.float64))"
      ],
      "execution_count": 37,
      "outputs": [
        {
          "output_type": "stream",
          "text": [
            "float64\n"
          ],
          "name": "stdout"
        }
      ]
    },
    {
      "cell_type": "markdown",
      "metadata": {
        "id": "KSVcXy9wcBcr"
      },
      "source": [
        "## different Methods in Numpy (Implement 10 methods)"
      ]
    },
    {
      "cell_type": "markdown",
      "metadata": {
        "id": "iYkSCl0kcTMt"
      },
      "source": [
        "## *np.zeros*()"
      ]
    },
    {
      "cell_type": "code",
      "metadata": {
        "colab": {
          "base_uri": "https://localhost:8080/"
        },
        "id": "SnfVzVV3df-g",
        "outputId": "cbf32714-97d8-492e-fd75-7d2b8e118da7"
      },
      "source": [
        "np.zeros((3,4))"
      ],
      "execution_count": 40,
      "outputs": [
        {
          "output_type": "execute_result",
          "data": {
            "text/plain": [
              "array([[0., 0., 0., 0.],\n",
              "       [0., 0., 0., 0.],\n",
              "       [0., 0., 0., 0.]])"
            ]
          },
          "metadata": {
            "tags": []
          },
          "execution_count": 40
        }
      ]
    },
    {
      "cell_type": "markdown",
      "metadata": {
        "id": "egbGTm8td48M"
      },
      "source": [
        "# np.ones()"
      ]
    },
    {
      "cell_type": "code",
      "metadata": {
        "colab": {
          "base_uri": "https://localhost:8080/"
        },
        "id": "T7KkIzesdmIA",
        "outputId": "8a3a2f65-c30b-45fb-c19a-bb9268b5e1e2"
      },
      "source": [
        "np.ones((4,5))"
      ],
      "execution_count": 41,
      "outputs": [
        {
          "output_type": "execute_result",
          "data": {
            "text/plain": [
              "array([[1., 1., 1., 1., 1.],\n",
              "       [1., 1., 1., 1., 1.],\n",
              "       [1., 1., 1., 1., 1.],\n",
              "       [1., 1., 1., 1., 1.]])"
            ]
          },
          "metadata": {
            "tags": []
          },
          "execution_count": 41
        }
      ]
    },
    {
      "cell_type": "markdown",
      "metadata": {
        "id": "OKsaD7xIfNns"
      },
      "source": [
        "## range()"
      ]
    },
    {
      "cell_type": "code",
      "metadata": {
        "colab": {
          "base_uri": "https://localhost:8080/"
        },
        "id": "iWUxtGjkd-Yw",
        "outputId": "148849e6-a0ed-4035-cccc-31f21ed1b487"
      },
      "source": [
        "\r\n",
        "l=range(5)\r\n",
        "l\r\n",
        "for x in l:\r\n",
        "  print(x)\r\n"
      ],
      "execution_count": 51,
      "outputs": [
        {
          "output_type": "stream",
          "text": [
            "0\n",
            "1\n",
            "2\n",
            "3\n",
            "4\n"
          ],
          "name": "stdout"
        }
      ]
    },
    {
      "cell_type": "markdown",
      "metadata": {
        "id": "nj41l_s4fSJI"
      },
      "source": [
        "## np.arange()"
      ]
    },
    {
      "cell_type": "code",
      "metadata": {
        "colab": {
          "base_uri": "https://localhost:8080/"
        },
        "id": "evZe_MaSfaQi",
        "outputId": "5e9c13e3-cb9f-444e-a9f8-1d909ed9a62a"
      },
      "source": [
        "np.arange(1,6)"
      ],
      "execution_count": 53,
      "outputs": [
        {
          "output_type": "execute_result",
          "data": {
            "text/plain": [
              "array([1, 2, 3, 4, 5])"
            ]
          },
          "metadata": {
            "tags": []
          },
          "execution_count": 53
        }
      ]
    },
    {
      "cell_type": "code",
      "metadata": {
        "colab": {
          "base_uri": "https://localhost:8080/"
        },
        "id": "nPl022tmiOR4",
        "outputId": "18855fe8-ff15-4e79-ba27-7237e55f8081"
      },
      "source": [
        "np.arange(1,8,2)"
      ],
      "execution_count": 54,
      "outputs": [
        {
          "output_type": "execute_result",
          "data": {
            "text/plain": [
              "array([1, 3, 5, 7])"
            ]
          },
          "metadata": {
            "tags": []
          },
          "execution_count": 54
        }
      ]
    },
    {
      "cell_type": "markdown",
      "metadata": {
        "id": "3-LRYYiGinvf"
      },
      "source": [
        "# np.Linspace()"
      ]
    },
    {
      "cell_type": "code",
      "metadata": {
        "colab": {
          "base_uri": "https://localhost:8080/"
        },
        "id": "QGMypdkVibKf",
        "outputId": "3d3eedfe-c2f9-4af4-f7af-be9107af4f21"
      },
      "source": [
        "np.linspace(1,5,10)"
      ],
      "execution_count": 55,
      "outputs": [
        {
          "output_type": "execute_result",
          "data": {
            "text/plain": [
              "array([1.        , 1.44444444, 1.88888889, 2.33333333, 2.77777778,\n",
              "       3.22222222, 3.66666667, 4.11111111, 4.55555556, 5.        ])"
            ]
          },
          "metadata": {
            "tags": []
          },
          "execution_count": 55
        }
      ]
    },
    {
      "cell_type": "code",
      "metadata": {
        "colab": {
          "base_uri": "https://localhost:8080/"
        },
        "id": "8SQlrcC8jLPi",
        "outputId": "54d9c944-c538-446d-bcb2-53a476a91f42"
      },
      "source": [
        "np.linspace(1,4,7)"
      ],
      "execution_count": 56,
      "outputs": [
        {
          "output_type": "execute_result",
          "data": {
            "text/plain": [
              "array([1. , 1.5, 2. , 2.5, 3. , 3.5, 4. ])"
            ]
          },
          "metadata": {
            "tags": []
          },
          "execution_count": 56
        }
      ]
    },
    {
      "cell_type": "markdown",
      "metadata": {
        "id": "gm8gCuxZkrr9"
      },
      "source": [
        "# reshape()"
      ]
    },
    {
      "cell_type": "code",
      "metadata": {
        "colab": {
          "base_uri": "https://localhost:8080/"
        },
        "id": "0ihRknYqkxl-",
        "outputId": "445b8723-5448-4ca7-aee0-937541201057"
      },
      "source": [
        "b.shape\r\n"
      ],
      "execution_count": 63,
      "outputs": [
        {
          "output_type": "execute_result",
          "data": {
            "text/plain": [
              "(2, 6)"
            ]
          },
          "metadata": {
            "tags": []
          },
          "execution_count": 63
        }
      ]
    },
    {
      "cell_type": "code",
      "metadata": {
        "colab": {
          "base_uri": "https://localhost:8080/"
        },
        "id": "L_dsrYCEk1Vo",
        "outputId": "cc6aadc9-909e-4c88-ca5b-34ef4dd2c140"
      },
      "source": [
        "b.reshape(12,1)\r\n"
      ],
      "execution_count": 65,
      "outputs": [
        {
          "output_type": "execute_result",
          "data": {
            "text/plain": [
              "array([[1.e-45],\n",
              "       [0.e+00],\n",
              "       [3.e-45],\n",
              "       [0.e+00],\n",
              "       [4.e-45],\n",
              "       [0.e+00],\n",
              "       [6.e-45],\n",
              "       [0.e+00],\n",
              "       [7.e-45],\n",
              "       [0.e+00],\n",
              "       [8.e-45],\n",
              "       [0.e+00]], dtype=float32)"
            ]
          },
          "metadata": {
            "tags": []
          },
          "execution_count": 65
        }
      ]
    },
    {
      "cell_type": "markdown",
      "metadata": {
        "id": "fWuFVezllipZ"
      },
      "source": [
        "## ravel()"
      ]
    },
    {
      "cell_type": "code",
      "metadata": {
        "colab": {
          "base_uri": "https://localhost:8080/"
        },
        "id": "H5Y8adbslLo2",
        "outputId": "8a7db08e-6aad-4674-cf2f-8b6596283026"
      },
      "source": [
        "c=np.array([[1,2,3,4],\r\n",
        "            [12,23,45,56],\r\n",
        "            [34,56,78,80]]\r\n",
        "           )\r\n",
        "c.ravel()"
      ],
      "execution_count": 71,
      "outputs": [
        {
          "output_type": "execute_result",
          "data": {
            "text/plain": [
              "array([ 1,  2,  3,  4, 12, 23, 45, 56, 34, 56, 78, 80])"
            ]
          },
          "metadata": {
            "tags": []
          },
          "execution_count": 71
        }
      ]
    },
    {
      "cell_type": "markdown",
      "metadata": {
        "id": "YhCE8M-tmsXO"
      },
      "source": [
        "## min()"
      ]
    },
    {
      "cell_type": "code",
      "metadata": {
        "colab": {
          "base_uri": "https://localhost:8080/"
        },
        "id": "N5ilwkiJlwNv",
        "outputId": "c6dbc218-0f0c-4578-dd73-991f7e870508"
      },
      "source": [
        "c.min()"
      ],
      "execution_count": 73,
      "outputs": [
        {
          "output_type": "execute_result",
          "data": {
            "text/plain": [
              "1"
            ]
          },
          "metadata": {
            "tags": []
          },
          "execution_count": 73
        }
      ]
    },
    {
      "cell_type": "markdown",
      "metadata": {
        "id": "V0UC1vGFm0JH"
      },
      "source": [
        "## max()"
      ]
    },
    {
      "cell_type": "code",
      "metadata": {
        "colab": {
          "base_uri": "https://localhost:8080/"
        },
        "id": "LVZkggvHme9_",
        "outputId": "32ed4bd3-8eb1-4090-ea07-597e4cfa5eea"
      },
      "source": [
        "c.max()"
      ],
      "execution_count": 74,
      "outputs": [
        {
          "output_type": "execute_result",
          "data": {
            "text/plain": [
              "80"
            ]
          },
          "metadata": {
            "tags": []
          },
          "execution_count": 74
        }
      ]
    },
    {
      "cell_type": "markdown",
      "metadata": {
        "id": "VP6v98JSm9GY"
      },
      "source": [
        "## sum()"
      ]
    },
    {
      "cell_type": "code",
      "metadata": {
        "colab": {
          "base_uri": "https://localhost:8080/"
        },
        "id": "idlIAiz9nAI3",
        "outputId": "dd468b3b-37fa-499c-fd6f-c85face52acc"
      },
      "source": [
        "c.sum()"
      ],
      "execution_count": 76,
      "outputs": [
        {
          "output_type": "execute_result",
          "data": {
            "text/plain": [
              "394"
            ]
          },
          "metadata": {
            "tags": []
          },
          "execution_count": 76
        }
      ]
    },
    {
      "cell_type": "code",
      "metadata": {
        "colab": {
          "base_uri": "https://localhost:8080/"
        },
        "id": "hD7kpUEsnk8Y",
        "outputId": "93483e9f-df2d-4b65-eb9f-19d7b5847b0f"
      },
      "source": [
        "c.sum(axis=0) #column wise sum"
      ],
      "execution_count": 77,
      "outputs": [
        {
          "output_type": "execute_result",
          "data": {
            "text/plain": [
              "array([ 47,  81, 126, 140])"
            ]
          },
          "metadata": {
            "tags": []
          },
          "execution_count": 77
        }
      ]
    },
    {
      "cell_type": "code",
      "metadata": {
        "colab": {
          "base_uri": "https://localhost:8080/"
        },
        "id": "r4wWvdWVnq3j",
        "outputId": "b1e03f21-c424-406d-dd1f-b4d0375670e1"
      },
      "source": [
        "c.sum(axis=1) # row wise sum"
      ],
      "execution_count": 80,
      "outputs": [
        {
          "output_type": "execute_result",
          "data": {
            "text/plain": [
              "array([ 10, 136, 248])"
            ]
          },
          "metadata": {
            "tags": []
          },
          "execution_count": 80
        }
      ]
    },
    {
      "cell_type": "markdown",
      "metadata": {
        "id": "rzowY9-WnRiB"
      },
      "source": [
        "## unique elements in the array using numpy."
      ]
    },
    {
      "cell_type": "code",
      "metadata": {
        "colab": {
          "base_uri": "https://localhost:8080/"
        },
        "id": "TD0QANxSnIEi",
        "outputId": "37d80b3c-7e65-4d3f-a1fb-4ac583aadc70"
      },
      "source": [
        "d=np.array([1,1,2,3,44,4,4,5,6,7,7,7,9])\r\n",
        "np.unique(d)"
      ],
      "execution_count": 83,
      "outputs": [
        {
          "output_type": "execute_result",
          "data": {
            "text/plain": [
              "array([ 1,  2,  3,  4,  5,  6,  7,  9, 44])"
            ]
          },
          "metadata": {
            "tags": []
          },
          "execution_count": 83
        }
      ]
    },
    {
      "cell_type": "code",
      "metadata": {
        "id": "y2p2K7cQoAWY"
      },
      "source": [
        ""
      ],
      "execution_count": null,
      "outputs": []
    }
  ]
}